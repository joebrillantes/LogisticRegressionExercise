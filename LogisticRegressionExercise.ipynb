{
 "cells": [
  {
   "cell_type": "markdown",
   "metadata": {},
   "source": [
    "## Build a credit scoring model\n",
    "### Data\n",
    "\"This dataset classifies people described by a set of attributes as good or bad credit risks. [It] comes in two formats (one all numeric). [It] also comes with a cost matrix\" (https://archive.ics.uci.edu/ml/datasets/Statlog+(German+Credit+Data)).\n",
    "\n",
    "Attribute 1: Salary per pay period for at least 1 year as recorded in a checking account with the bank (qualitative)<br>\n",
    "A11 : ... < 0 DM<br>\n",
    "A12 : 0 <= ... < 200 DM<br>\n",
    "A13 : ... >= 200 DM<br>\n",
    "A14 : no checking account<br>\n",
    "\n",
    "Attribute 2: Loan duration in months (numerical)\n",
    "\n",
    "Attribute 3: Credit history (qualitative)<br>\n",
    "A30 : no loans taken/ all loans paid back duly<br>\n",
    "A31 : all loans at this bank paid back duly<br>\n",
    "A32 : existing loans paid back duly till now<br>\n",
    "A33 : delay in paying off in the past<br>\n",
    "A34 : critical account/ other loans existing with other financial services companies<br>\n",
    "\n",
    "Attribute 4: Purpose of the load (qualitative)<br>\n",
    "A40 : car (new)<br>\n",
    "A41 : car (used)<br>\n",
    "A42 : furniture/equipment<br>\n",
    "A43 : radio/television<br>\n",
    "A44 : domestic appliances<br>\n",
    "A45 : repairs<br>\n",
    "A46 : education<br>\n",
    "A47 : vacation<br>\n",
    "A48 : retraining<br>\n",
    "A49 : business<br>\n",
    "A410: others<br>\n",
    "\n",
    "Attribute 5: Loan amount (numerical)\n",
    "\n",
    "Attibute 6: Money in savings accounts/bonds (qualitative)<br>\n",
    "A61 : ... < 100 DM<br>\n",
    "A62 : 100 <= ... < 500 DM<br>\n",
    "A63 : 500 <= ... < 1000 DM<br>\n",
    "A64 : .. >= 1000 DM<br>\n",
    "A65 : unknown or no savings account<br>\n",
    "\n",
    "Attribute 7: Tenure in present employment (qualitative)<br>\n",
    "A71 : unemployed<br>\n",
    "A72 : ... < 1 year<br>\n",
    "A73 : 1 <= ... < 4 years<br>\n",
    "A74 : 4 <= ... < 7 years<br>\n",
    "A75 : .. >= 7 years<br>\n",
    "\n",
    "Attribute 8: Installment rate as percentage of disposable income (numerical)\n",
    "\n",
    "Attribute 9: Civil status and sex (qualitative)<br>\n",
    "A91 : male : divorced/separated<br>\n",
    "A92 : female : divorced/separated/married<br>\n",
    "A93 : male : single<br>\n",
    "A94 : male : married/widowed<br>\n",
    "A95 : female : single<br>\n",
    "\n",
    "Attribute 10: Other debtors / guarantors (qualitative)<br>\n",
    "A101 : none<br>\n",
    "A102 : co-applicant<br>\n",
    "A103 : guarantor<br>\n",
    "\n",
    "Attribute 11: Tenure in present residence in years (numerical)\n",
    "\n",
    "Attribute 12: Assets (qualitative)<br>\n",
    "A121 : real estate<br>\n",
    "A122 : if not A121 : building society savings agreement/ life insurance<br>\n",
    "A123 : if not A121/A122 : car or other, but not money in savings accounts or bonds<br>\n",
    "A124 : unknown / no assets<br>\n",
    "\n",
    "Attribute 13: Age in years (numerical)\n",
    "\n",
    "Attribute 14: Access to other installment plans (qualitative)<br>\n",
    "A141 : bank<br>\n",
    "A142 : stores<br>\n",
    "A143 : none<br>\n",
    "\n",
    "Attribute 15: Housing (qualitative)<br>\n",
    "A151 : rent<br>\n",
    "A152 : own<br>\n",
    "A153 : for free<br>\n",
    "\n",
    "Attribute 16: Number of existing loans at this bank (numerical)\n",
    "\n",
    "Attribute 17: Employment (qualitative)<br>\n",
    "A171 : unemployed/ unskilled - non-resident<br>\n",
    "A172 : unskilled - resident<br>\n",
    "A173 : skilled employee / official<br>\n",
    "A174 : management/ self-employed/ highly qualified employee/ officer<br>\n",
    "\n",
    "Attribute 18: Number of people being financially supporting (numerical)\n",
    "\n",
    "Attribute 19: Telephone (qualitative)<br>\n",
    "A191 : none<br>\n",
    "A192 : yes, registered under the customer's name<br>\n",
    "\n",
    "Attribute 20: Foreign worker (qualitative)<br>\n",
    "A201 : yes<br>\n",
    "A202 : no<br>\n",
    "\n",
    "Attribute 21: Default (qualitative)<br>\n",
    "1 : no<br>\n",
    "2 : yes<br>\n",
    "\n",
    "Cost Matrix<br>\n",
    "0 : Did not default|predicted to not default<br>\n",
    "0 : Defaulted|predicted to default<br>\n",
    "1 : Did not default|predicted to default<br>\n",
    "5 : Defaulted|predicted to not default<br>\n",
    "\n",
    "### Task 1: Load data into R"
   ]
  },
  {
   "cell_type": "code",
   "execution_count": 1,
   "metadata": {},
   "outputs": [
    {
     "name": "stdout",
     "output_type": "stream",
     "text": [
      "'data.frame':\t1000 obs. of  21 variables:\n",
      " $ V1 : Factor w/ 4 levels \"A11\",\"A12\",\"A13\",..: 1 2 4 1 1 4 4 2 4 2 ...\n",
      " $ V2 : int  6 48 12 42 24 36 24 36 12 30 ...\n",
      " $ V3 : Factor w/ 5 levels \"A30\",\"A31\",\"A32\",..: 5 3 5 3 4 3 3 3 3 5 ...\n",
      " $ V4 : Factor w/ 10 levels \"A40\",\"A41\",\"A410\",..: 5 5 8 4 1 8 4 2 5 1 ...\n",
      " $ V5 : int  1169 5951 2096 7882 4870 9055 2835 6948 3059 5234 ...\n",
      " $ V6 : Factor w/ 5 levels \"A61\",\"A62\",\"A63\",..: 5 1 1 1 1 5 3 1 4 1 ...\n",
      " $ V7 : Factor w/ 5 levels \"A71\",\"A72\",\"A73\",..: 5 3 4 4 3 3 5 3 4 1 ...\n",
      " $ V8 : int  4 2 2 2 3 2 3 2 2 4 ...\n",
      " $ V9 : Factor w/ 4 levels \"A91\",\"A92\",\"A93\",..: 3 2 3 3 3 3 3 3 1 4 ...\n",
      " $ V10: Factor w/ 3 levels \"A101\",\"A102\",..: 1 1 1 3 1 1 1 1 1 1 ...\n",
      " $ V11: int  4 2 3 4 4 4 4 2 4 2 ...\n",
      " $ V12: Factor w/ 4 levels \"A121\",\"A122\",..: 1 1 1 2 4 4 2 3 1 3 ...\n",
      " $ V13: int  67 22 49 45 53 35 53 35 61 28 ...\n",
      " $ V14: Factor w/ 3 levels \"A141\",\"A142\",..: 3 3 3 3 3 3 3 3 3 3 ...\n",
      " $ V15: Factor w/ 3 levels \"A151\",\"A152\",..: 2 2 2 3 3 3 2 1 2 2 ...\n",
      " $ V16: int  2 1 1 1 2 1 1 1 1 2 ...\n",
      " $ V17: Factor w/ 4 levels \"A171\",\"A172\",..: 3 3 2 3 3 2 3 4 2 4 ...\n",
      " $ V18: int  1 1 2 2 2 2 1 1 1 1 ...\n",
      " $ V19: Factor w/ 2 levels \"A191\",\"A192\": 2 1 1 1 1 2 1 2 1 1 ...\n",
      " $ V20: Factor w/ 2 levels \"A201\",\"A202\": 1 1 1 1 1 1 1 1 1 1 ...\n",
      " $ V21: int  1 2 1 1 2 1 1 1 1 2 ...\n"
     ]
    }
   ],
   "source": [
    "raw <- read.csv(file='https://archive.ics.uci.edu/ml/machine-learning-databases/statlog/german/german.data', \n",
    "                header=FALSE, sep=\" \")\n",
    "str(raw)"
   ]
  },
  {
   "cell_type": "markdown",
   "metadata": {},
   "source": [
    "### Task 2: Convert some columns to categorical"
   ]
  },
  {
   "cell_type": "code",
   "execution_count": 2,
   "metadata": {
    "collapsed": true
   },
   "outputs": [],
   "source": [
    "raw$V21 <- as.factor(raw$V21)"
   ]
  },
  {
   "cell_type": "markdown",
   "metadata": {},
   "source": [
    "### Task 3: Separate training, validation, and testing sets"
   ]
  },
  {
   "cell_type": "code",
   "execution_count": 3,
   "metadata": {},
   "outputs": [
    {
     "data": {
      "text/plain": [
       "ident\n",
       " test train valid \n",
       "  165   687   148 "
      ]
     },
     "metadata": {},
     "output_type": "display_data"
    }
   ],
   "source": [
    "set.seed(12345)\n",
    "ident <- sample(c('train','valid','test'), prob=c(0.70,0.15,0.15), replace=TRUE, size=nrow(raw))\n",
    "table(ident)\n",
    "trainSet <- raw[ident == 'train',]\n",
    "validSet <- raw[ident == 'valid',]\n",
    "testSet  <- raw[ident == 'test' ,]"
   ]
  },
  {
   "cell_type": "markdown",
   "metadata": {},
   "source": [
    "### Task 4: Fit a logistic regression model"
   ]
  },
  {
   "cell_type": "code",
   "execution_count": 4,
   "metadata": {
    "collapsed": true
   },
   "outputs": [],
   "source": [
    "model.lr <- glm(V21 ~ ., data=trainSet, family='binomial')"
   ]
  },
  {
   "cell_type": "markdown",
   "metadata": {},
   "source": [
    "### Task 5: Check the sanity of the model"
   ]
  },
  {
   "cell_type": "code",
   "execution_count": 5,
   "metadata": {},
   "outputs": [
    {
     "data": {
      "text/plain": [
       "\n",
       "Call:\n",
       "glm(formula = V21 ~ ., family = \"binomial\", data = trainSet)\n",
       "\n",
       "Deviance Residuals: \n",
       "    Min       1Q   Median       3Q      Max  \n",
       "-2.2623  -0.6747  -0.3450   0.6899   2.5595  \n",
       "\n",
       "Coefficients:\n",
       "              Estimate Std. Error z value Pr(>|z|)    \n",
       "(Intercept)  1.140e+00  1.314e+00   0.867 0.385842    \n",
       "V1A12       -6.479e-01  2.659e-01  -2.436 0.014836 *  \n",
       "V1A13       -1.413e+00  4.437e-01  -3.185 0.001446 ** \n",
       "V1A14       -2.079e+00  2.883e-01  -7.211 5.55e-13 ***\n",
       "V2           2.740e-02  1.146e-02   2.391 0.016785 *  \n",
       "V3A31        7.166e-01  6.813e-01   1.052 0.292913    \n",
       "V3A32       -3.811e-01  5.487e-01  -0.695 0.487315    \n",
       "V3A33       -1.081e-01  5.928e-01  -0.182 0.855330    \n",
       "V3A34       -1.071e+00  5.609e-01  -1.910 0.056192 .  \n",
       "V4A41       -2.045e+00  4.739e-01  -4.316 1.59e-05 ***\n",
       "V4A410      -1.902e+00  9.453e-01  -2.012 0.044206 *  \n",
       "V4A42       -7.949e-01  3.236e-01  -2.457 0.014028 *  \n",
       "V4A43       -1.085e+00  3.037e-01  -3.572 0.000354 ***\n",
       "V4A44       -1.085e+00  8.538e-01  -1.270 0.204028    \n",
       "V4A45        1.839e-01  6.960e-01   0.264 0.791568    \n",
       "V4A46       -4.317e-01  4.823e-01  -0.895 0.370742    \n",
       "V4A48       -2.618e+00  1.357e+00  -1.929 0.053712 .  \n",
       "V4A49       -9.370e-01  4.097e-01  -2.287 0.022186 *  \n",
       "V5           1.092e-04  5.493e-05   1.987 0.046903 *  \n",
       "V6A62       -4.854e-01  3.646e-01  -1.332 0.183007    \n",
       "V6A63        3.895e-02  4.646e-01   0.084 0.933186    \n",
       "V6A64       -2.080e+00  8.418e-01  -2.471 0.013484 *  \n",
       "V6A65       -1.488e+00  3.311e-01  -4.495 6.96e-06 ***\n",
       "V7A72        3.885e-02  5.538e-01   0.070 0.944075    \n",
       "V7A73       -1.851e-01  5.351e-01  -0.346 0.729348    \n",
       "V7A74       -6.396e-01  5.696e-01  -1.123 0.261517    \n",
       "V7A75        1.228e-01  5.345e-01   0.230 0.818273    \n",
       "V8           2.094e-01  1.095e-01   1.913 0.055722 .  \n",
       "V9A92        3.978e-02  4.719e-01   0.084 0.932819    \n",
       "V9A93       -4.108e-01  4.599e-01  -0.893 0.371726    \n",
       "V9A94        6.445e-02  5.440e-01   0.118 0.905700    \n",
       "V10A102     -2.809e-01  6.124e-01  -0.459 0.646430    \n",
       "V10A103     -1.539e+00  5.503e-01  -2.796 0.005175 ** \n",
       "V11          2.777e-02  1.061e-01   0.262 0.793463    \n",
       "V12A122     -6.754e-02  3.187e-01  -0.212 0.832169    \n",
       "V12A123      1.008e-01  2.942e-01   0.343 0.731956    \n",
       "V12A124      3.490e-01  5.373e-01   0.649 0.516029    \n",
       "V13         -2.178e-02  1.187e-02  -1.835 0.066515 .  \n",
       "V14A142     -2.549e-01  4.916e-01  -0.519 0.604106    \n",
       "V14A143     -6.429e-01  3.006e-01  -2.139 0.032463 *  \n",
       "V15A152     -2.135e-01  2.844e-01  -0.751 0.452821    \n",
       "V15A153      6.662e-02  6.140e-01   0.109 0.913597    \n",
       "V16          6.592e-02  2.350e-01   0.280 0.779099    \n",
       "V17A172      5.731e-01  7.987e-01   0.717 0.473075    \n",
       "V17A173      5.643e-01  7.715e-01   0.731 0.464524    \n",
       "V17A174      2.772e-01  7.787e-01   0.356 0.721881    \n",
       "V18          1.039e-01  3.158e-01   0.329 0.742079    \n",
       "V19A192     -1.786e-01  2.427e-01  -0.736 0.461856    \n",
       "V20A202     -1.746e+00  8.023e-01  -2.176 0.029556 *  \n",
       "---\n",
       "Signif. codes:  0 '***' 0.001 '**' 0.01 '*' 0.05 '.' 0.1 ' ' 1\n",
       "\n",
       "(Dispersion parameter for binomial family taken to be 1)\n",
       "\n",
       "    Null deviance: 852.29  on 686  degrees of freedom\n",
       "Residual deviance: 604.65  on 638  degrees of freedom\n",
       "AIC: 702.65\n",
       "\n",
       "Number of Fisher Scoring iterations: 5\n"
      ]
     },
     "metadata": {},
     "output_type": "display_data"
    }
   ],
   "source": [
    "summary(model.lr)"
   ]
  },
  {
   "cell_type": "markdown",
   "metadata": {},
   "source": [
    "### Task 6: Perform some predictions"
   ]
  },
  {
   "cell_type": "code",
   "execution_count": 6,
   "metadata": {},
   "outputs": [
    {
     "data": {
      "text/html": [
       "<dl class=dl-horizontal>\n",
       "\t<dt>2</dt>\n",
       "\t\t<dd>0.672186677971861</dd>\n",
       "\t<dt>4</dt>\n",
       "\t\t<dd>0.29525843331184</dd>\n",
       "\t<dt>10</dt>\n",
       "\t\t<dd>0.714871847457401</dd>\n",
       "\t<dt>20</dt>\n",
       "\t\t<dd>0.153189820700922</dd>\n",
       "\t<dt>23</dt>\n",
       "\t\t<dd>0.117795124812142</dd>\n",
       "\t<dt>37</dt>\n",
       "\t\t<dd>0.385370612532979</dd>\n",
       "</dl>\n"
      ],
      "text/latex": [
       "\\begin{description*}\n",
       "\\item[2] 0.672186677971861\n",
       "\\item[4] 0.29525843331184\n",
       "\\item[10] 0.714871847457401\n",
       "\\item[20] 0.153189820700922\n",
       "\\item[23] 0.117795124812142\n",
       "\\item[37] 0.385370612532979\n",
       "\\end{description*}\n"
      ],
      "text/markdown": [
       "2\n",
       ":   0.6721866779718614\n",
       ":   0.2952584333118410\n",
       ":   0.71487184745740120\n",
       ":   0.15318982070092223\n",
       ":   0.11779512481214237\n",
       ":   0.385370612532979\n",
       "\n"
      ],
      "text/plain": [
       "        2         4        10        20        23        37 \n",
       "0.6721867 0.2952584 0.7148718 0.1531898 0.1177951 0.3853706 "
      ]
     },
     "metadata": {},
     "output_type": "display_data"
    },
    {
     "data": {
      "text/plain": [
       "    \n",
       "actl  1  2\n",
       "   1 94 13\n",
       "   2 20 21"
      ]
     },
     "metadata": {},
     "output_type": "display_data"
    }
   ],
   "source": [
    "pred <- predict(model.lr, newdata=validSet, type='response')\n",
    "head(pred)\n",
    "actl <- validSet$V21\n",
    "table(actl,ifelse(pred <= 0.5, 1, 2))"
   ]
  },
  {
   "cell_type": "markdown",
   "metadata": {},
   "source": [
    "### Task 7: Compute for the area under the receiver operating characteristic curve"
   ]
  },
  {
   "cell_type": "code",
   "execution_count": 7,
   "metadata": {},
   "outputs": [
    {
     "name": "stderr",
     "output_type": "stream",
     "text": [
      "Installing package into 'C:/Users/jbrilliantes/Documents/R/win-library/3.4'\n",
      "(as 'lib' is unspecified)\n"
     ]
    },
    {
     "name": "stdout",
     "output_type": "stream",
     "text": [
      "package 'ROCR' successfully unpacked and MD5 sums checked\n",
      "\n",
      "The downloaded binary packages are in\n",
      "\tC:\\Users\\jbrilliantes\\AppData\\Local\\Temp\\RtmpOikEOB\\downloaded_packages\n"
     ]
    },
    {
     "name": "stderr",
     "output_type": "stream",
     "text": [
      "Loading required package: gplots\n",
      "Warning message:\n",
      "\"package 'gplots' was built under R version 3.4.3\"\n",
      "Attaching package: 'gplots'\n",
      "\n",
      "The following object is masked from 'package:stats':\n",
      "\n",
      "    lowess\n",
      "\n"
     ]
    },
    {
     "data": {
      "text/html": [
       "0.800775017095966"
      ],
      "text/latex": [
       "0.800775017095966"
      ],
      "text/markdown": [
       "0.800775017095966"
      ],
      "text/plain": [
       "[1] 0.800775"
      ]
     },
     "metadata": {},
     "output_type": "display_data"
    },
    {
     "data": {
      "image/png": "[encoded data removed]",
      "text/plain": [
       "plot without title"
      ]
     },
     "metadata": {},
     "output_type": "display_data"
    }
   ],
   "source": [
    "install.packages('ROCR')\n",
    "library(ROCR)\n",
    "as.numeric(performance(prediction(pred, actl), 'auc')@y.values)\n",
    "plot(performance(prediction(pred, actl), 'tpr','fpr'))"
   ]
  },
  {
   "cell_type": "markdown",
   "metadata": {},
   "source": [
    "The True positive rate (TP) is the proportion of positive cases that were correctly identified.<br>\n",
    "The False positive rate (FP) is the proportion of negative cases that were incorrectly classified as positive.<br>\n",
    "We can change our cut-off of 0.5 in our definition of Default. There are infinitely many cut-offs between 0 and 1, and each cut-off has a (FP, TP) pair. The collection of (FP, TP) pairs can be used to plot the ROC curve."
   ]
  },
  {
   "cell_type": "code",
   "execution_count": null,
   "metadata": {
    "collapsed": true
   },
   "outputs": [],
   "source": []
  }
 ],
 "metadata": {
  "kernelspec": {
   "display_name": "Microsoft R Open 3.4.1",
   "language": "R",
   "name": "mro341"
  },
  "language_info": {
   "codemirror_mode": "r",
   "file_extension": ".r",
   "mimetype": "text/x-r-source",
   "name": "R",
   "pygments_lexer": "r",
   "version": "3.4.1"
  }
 },
 "nbformat": 4,
 "nbformat_minor": 2
}
